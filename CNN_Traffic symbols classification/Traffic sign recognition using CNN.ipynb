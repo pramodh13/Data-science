{
 "cells": [
  {
   "cell_type": "markdown",
   "metadata": {},
   "source": [
    "# Dataset has German traffic symbols and we need to categorize and identify the signs using CNN technique"
   ]
  },
  {
   "cell_type": "code",
   "execution_count": 11,
   "metadata": {},
   "outputs": [],
   "source": [
    "#Import libraries\n",
    "import numpy as np\n",
    "import pandas as pd\n",
    "import matplotlib.pyplot as plt\n",
    "import cv2\n",
    "import tensorflow as tf\n",
    "import os\n",
    "from PIL import Image #Python image library\n",
    "from sklearn.model_selection import train_test_split\n",
    "from tensorflow.keras.utils import to_categorical  #Does one hot encoding on labels\n",
    "from tensorflow.keras.models import Sequential,load_model\n",
    "from tensorflow.keras.layers import Dense,Conv2D,Flatten,Dropout,MaxPool2D"
   ]
  },
  {
   "cell_type": "code",
   "execution_count": 3,
   "metadata": {},
   "outputs": [],
   "source": [
    "os.chdir('C:/Users/Pramodh/Desktop/Pramodh/Phython/Phython Code practice/CNN/Traffic symbols classification')"
   ]
  },
  {
   "cell_type": "code",
   "execution_count": 14,
   "metadata": {},
   "outputs": [
    {
     "data": {
      "text/plain": [
       "'C:\\\\Users\\\\Pramodh\\\\Desktop\\\\Pramodh\\\\Phython\\\\Phython Code practice\\\\CNN\\\\Traffic symbols classification'"
      ]
     },
     "execution_count": 14,
     "metadata": {},
     "output_type": "execute_result"
    }
   ],
   "source": [
    "data=[]\n",
    "labels=[]\n",
    "classes=43 #We have 43 classes in train set\n",
    "cur_path=os.getcwd()\n",
    "cur_path"
   ]
  },
  {
   "cell_type": "markdown",
   "metadata": {},
   "source": [
    "# Preprocess the images"
   ]
  },
  {
   "cell_type": "code",
   "execution_count": 22,
   "metadata": {},
   "outputs": [],
   "source": [
    "#Looping through each folder in train set\n",
    "for i in range(classes):\n",
    "    path=os.path.join(cur_path,'Dataset\\Train',str(i))\n",
    "    images=os.listdir(path)\n",
    "    for a in images:\n",
    "        image=Image.open(path+'\\\\'+ a)\n",
    "        image=image.resize((30,30))\n",
    "        image=np.array(image)\n",
    "        data.append(image)\n",
    "        labels.append(i)\n"
   ]
  },
  {
   "cell_type": "code",
   "execution_count": 23,
   "metadata": {},
   "outputs": [],
   "source": [
    "#Converting List to array\n",
    "data=np.array(data)\n",
    "labels=np.array(labels)"
   ]
  },
  {
   "cell_type": "code",
   "execution_count": 25,
   "metadata": {},
   "outputs": [
    {
     "data": {
      "text/plain": [
       "((39209, 30, 30, 3), (39209,))"
      ]
     },
     "execution_count": 25,
     "metadata": {},
     "output_type": "execute_result"
    }
   ],
   "source": [
    "data.shape,labels.shape"
   ]
  },
  {
   "cell_type": "code",
   "execution_count": 26,
   "metadata": {},
   "outputs": [
    {
     "name": "stdout",
     "output_type": "stream",
     "text": [
      "(31367, 30, 30, 3) (7842, 30, 30, 3)\n"
     ]
    }
   ],
   "source": [
    "x_train,x_test,y_train,y_test=train_test_split(data,labels,random_state=0,test_size=0.2)\n",
    "print(x_train.shape,x_test.shape)"
   ]
  },
  {
   "cell_type": "code",
   "execution_count": 28,
   "metadata": {},
   "outputs": [],
   "source": [
    "#Convert labels to onehot encoding\n",
    "y_train=to_categorical(y_train,43)\n",
    "y_test=to_categorical(y_test,43)"
   ]
  },
  {
   "cell_type": "code",
   "execution_count": 29,
   "metadata": {},
   "outputs": [
    {
     "data": {
      "text/plain": [
       "array([[0., 0., 0., ..., 0., 0., 0.],\n",
       "       [0., 0., 0., ..., 0., 0., 0.],\n",
       "       [0., 0., 0., ..., 0., 0., 0.],\n",
       "       ...,\n",
       "       [0., 0., 0., ..., 0., 0., 0.],\n",
       "       [0., 0., 0., ..., 0., 0., 0.],\n",
       "       [0., 0., 1., ..., 0., 0., 0.]], dtype=float32)"
      ]
     },
     "execution_count": 29,
     "metadata": {},
     "output_type": "execute_result"
    }
   ],
   "source": [
    "y_train"
   ]
  },
  {
   "cell_type": "markdown",
   "metadata": {},
   "source": [
    "# Build our model"
   ]
  },
  {
   "cell_type": "code",
   "execution_count": 33,
   "metadata": {},
   "outputs": [],
   "source": [
    "model=Sequential()\n",
    "model.add(Conv2D(filters=32,kernel_size=(5,5),activation='relu',input_shape=x_train.shape[1:]))\n",
    "model.add(Conv2D(filters=32,kernel_size=(5,5),activation='relu'))\n",
    "model.add(MaxPool2D(pool_size=(2,2)))\n",
    "model.add(Dropout(rate=0.25))\n",
    "model.add(Conv2D(filters=64,kernel_size=(3,3),activation='relu'))\n",
    "model.add(Conv2D(filters=64,kernel_size=(3,3),activation='relu'))\n",
    "model.add(MaxPool2D(pool_size=(2,2)))\n",
    "model.add(Dropout(rate=0.25))\n",
    "model.add(Flatten())\n",
    "model.add(Dense(256,activation='relu'))\n",
    "model.add(Dropout(rate=0.5))\n",
    "model.add(Dense(43,activation='softmax')) #Since output has 43 labels.\n"
   ]
  },
  {
   "cell_type": "code",
   "execution_count": 34,
   "metadata": {},
   "outputs": [],
   "source": [
    "model.compile(loss='categorical_crossentropy',optimizer='adam',metrics=['accuracy'])"
   ]
  },
  {
   "cell_type": "code",
   "execution_count": 35,
   "metadata": {},
   "outputs": [
    {
     "name": "stdout",
     "output_type": "stream",
     "text": [
      "Train on 31367 samples, validate on 7842 samples\n",
      "Epoch 1/20\n",
      "31367/31367 [==============================] - 92s 3ms/sample - loss: 2.3009 - acc: 0.3954 - val_loss: 0.9294 - val_acc: 0.7733\n",
      "Epoch 2/20\n",
      "31367/31367 [==============================] - 94s 3ms/sample - loss: 1.0386 - acc: 0.6852 - val_loss: 0.3934 - val_acc: 0.8850\n",
      "Epoch 3/20\n",
      "31367/31367 [==============================] - 88s 3ms/sample - loss: 0.6592 - acc: 0.7972 - val_loss: 0.2585 - val_acc: 0.9267\n",
      "Epoch 4/20\n",
      "31367/31367 [==============================] - 96s 3ms/sample - loss: 0.4509 - acc: 0.8603 - val_loss: 0.1859 - val_acc: 0.9464\n",
      "Epoch 5/20\n",
      "31367/31367 [==============================] - 92s 3ms/sample - loss: 0.3735 - acc: 0.8857 - val_loss: 0.1450 - val_acc: 0.9572\n",
      "Epoch 6/20\n",
      "31367/31367 [==============================] - 93s 3ms/sample - loss: 0.3204 - acc: 0.9045 - val_loss: 0.1200 - val_acc: 0.9647\n",
      "Epoch 7/20\n",
      "31367/31367 [==============================] - 94s 3ms/sample - loss: 0.2709 - acc: 0.9208 - val_loss: 0.1259 - val_acc: 0.9640\n",
      "Epoch 8/20\n",
      "31367/31367 [==============================] - 100s 3ms/sample - loss: 0.2364 - acc: 0.9290 - val_loss: 0.0873 - val_acc: 0.9745\n",
      "Epoch 9/20\n",
      "31367/31367 [==============================] - 94s 3ms/sample - loss: 0.2352 - acc: 0.9324 - val_loss: 0.1054 - val_acc: 0.9693\n",
      "Epoch 10/20\n",
      "31367/31367 [==============================] - 81s 3ms/sample - loss: 0.2167 - acc: 0.9370 - val_loss: 0.0738 - val_acc: 0.9797\n",
      "Epoch 11/20\n",
      "31367/31367 [==============================] - 85s 3ms/sample - loss: 0.2171 - acc: 0.9392 - val_loss: 0.0717 - val_acc: 0.9815\n",
      "Epoch 12/20\n",
      "31367/31367 [==============================] - 97s 3ms/sample - loss: 0.2278 - acc: 0.9371 - val_loss: 0.0649 - val_acc: 0.9793\n",
      "Epoch 13/20\n",
      "31367/31367 [==============================] - 93s 3ms/sample - loss: 0.2132 - acc: 0.9405 - val_loss: 0.0675 - val_acc: 0.9820\n",
      "Epoch 14/20\n",
      "31367/31367 [==============================] - 95s 3ms/sample - loss: 0.2021 - acc: 0.9427 - val_loss: 0.0724 - val_acc: 0.9813\n",
      "Epoch 15/20\n",
      "31367/31367 [==============================] - 97s 3ms/sample - loss: 0.1912 - acc: 0.9481 - val_loss: 0.0664 - val_acc: 0.9823\n",
      "Epoch 16/20\n",
      "31367/31367 [==============================] - 99s 3ms/sample - loss: 0.2078 - acc: 0.9445 - val_loss: 0.0656 - val_acc: 0.9829\n",
      "Epoch 17/20\n",
      "31367/31367 [==============================] - 93s 3ms/sample - loss: 0.1997 - acc: 0.9466 - val_loss: 0.0716 - val_acc: 0.9802\n",
      "Epoch 18/20\n",
      "31367/31367 [==============================] - 84s 3ms/sample - loss: 0.1858 - acc: 0.9504 - val_loss: 0.0801 - val_acc: 0.9779\n",
      "Epoch 19/20\n",
      "31367/31367 [==============================] - 85s 3ms/sample - loss: 0.1782 - acc: 0.9514 - val_loss: 0.0535 - val_acc: 0.9858\n",
      "Epoch 20/20\n",
      "31367/31367 [==============================] - 88s 3ms/sample - loss: 0.1864 - acc: 0.9490 - val_loss: 0.0523 - val_acc: 0.9857\n"
     ]
    }
   ],
   "source": [
    "epochs=20\n",
    "history=model.fit(x_train,y_train,batch_size=32,epochs=epochs,validation_data=(x_test,y_test))"
   ]
  },
  {
   "cell_type": "code",
   "execution_count": 43,
   "metadata": {},
   "outputs": [
    {
     "data": {
      "image/png": "[encoded data removed]",
      "text/plain": [
       "<Figure size 432x288 with 1 Axes>"
      ]
     },
     "metadata": {
      "needs_background": "light"
     },
     "output_type": "display_data"
    }
   ],
   "source": [
    "#Visualization of accuracy\n",
    "plt.figure(0)\n",
    "plt.plot(history.history['acc'],label='Training accuracy')\n",
    "plt.plot(history.history['val_acc'],label='Val accuracy')\n",
    "plt.title(\"Accuracy\")\n",
    "plt.xlabel(\"Epochs\")\n",
    "plt.ylabel(\"Accuracy\")\n",
    "plt.legend()\n",
    "plt.show()"
   ]
  },
  {
   "cell_type": "code",
   "execution_count": 44,
   "metadata": {},
   "outputs": [
    {
     "data": {
      "image/png": "[encoded data removed]",
      "text/plain": [
       "<Figure size 432x288 with 1 Axes>"
      ]
     },
     "metadata": {
      "needs_background": "light"
     },
     "output_type": "display_data"
    }
   ],
   "source": [
    "#Visualization of loss\n",
    "plt.figure(0)\n",
    "plt.plot(history.history['loss'],label='Training loss')\n",
    "plt.plot(history.history['val_loss'],label='Val loss')\n",
    "plt.title(\"loss\")\n",
    "plt.xlabel(\"Epochs\")\n",
    "plt.ylabel(\"loss\")\n",
    "plt.legend()\n",
    "plt.show()"
   ]
  },
  {
   "cell_type": "markdown",
   "metadata": {},
   "source": [
    "# Testing on test data"
   ]
  },
  {
   "cell_type": "code",
   "execution_count": 61,
   "metadata": {},
   "outputs": [],
   "source": [
    "def testing(testcsv):\n",
    "    y_test=pd.read_csv(testcsv)\n",
    "    label=y_test[\"ClassId\"].values\n",
    "    imgs=y_test[\"Path\"].values\n",
    "    print(imgs)\n",
    "    data=[]\n",
    "    for i in imgs:\n",
    "        image=Image.open(cur_path +'\\\\Dataset\\\\' + i)\n",
    "        image=image.resize((30,30))\n",
    "        data.append(np.array(image))\n",
    "    x_test=np.array(data)\n",
    "    return x_test,label"
   ]
  },
  {
   "cell_type": "code",
   "execution_count": 62,
   "metadata": {},
   "outputs": [
    {
     "name": "stdout",
     "output_type": "stream",
     "text": [
      "['Test/00000.png' 'Test/00001.png' 'Test/00002.png' ... 'Test/12627.png'\n",
      " 'Test/12628.png' 'Test/12629.png']\n"
     ]
    }
   ],
   "source": [
    "x_test,label=testing(\"Dataset/Test.csv\")"
   ]
  },
  {
   "cell_type": "code",
   "execution_count": 63,
   "metadata": {},
   "outputs": [
    {
     "data": {
      "text/plain": [
       "array([16,  1, 38, ...,  5,  7, 10], dtype=int64)"
      ]
     },
     "execution_count": 63,
     "metadata": {},
     "output_type": "execute_result"
    }
   ],
   "source": [
    "y_pred=model.predict_classes(x_test)\n",
    "y_pred"
   ]
  },
  {
   "cell_type": "markdown",
   "metadata": {},
   "source": [
    "# Accuracy of test data"
   ]
  },
  {
   "cell_type": "code",
   "execution_count": 65,
   "metadata": {},
   "outputs": [
    {
     "name": "stdout",
     "output_type": "stream",
     "text": [
      "0.9496437054631829\n"
     ]
    }
   ],
   "source": [
    "from sklearn.metrics import accuracy_score\n",
    "print(accuracy_score(label,y_pred))"
   ]
  },
  {
   "cell_type": "markdown",
   "metadata": {},
   "source": [
    "Seems very good accuracy score"
   ]
  },
  {
   "cell_type": "code",
   "execution_count": 68,
   "metadata": {},
   "outputs": [],
   "source": [
    "#Save the model as h5 extn\n",
    "model.save(\"TSR.h5\")"
   ]
  },
  {
   "cell_type": "code",
   "execution_count": 70,
   "metadata": {},
   "outputs": [
    {
     "data": {
      "text/plain": [
       "<tensorflow.python.keras.engine.sequential.Sequential at 0x27b75ad2408>"
      ]
     },
     "execution_count": 70,
     "metadata": {},
     "output_type": "execute_result"
    }
   ],
   "source": [
    "model"
   ]
  },
  {
   "cell_type": "code",
   "execution_count": 71,
   "metadata": {},
   "outputs": [],
   "source": [
    "# Classes of trafic signs\n",
    "classes = { 0:'Speed limit (20km/h)',\n",
    "            1:'Speed limit (30km/h)',\n",
    "            2:'Speed limit (50km/h)',\n",
    "            3:'Speed limit (60km/h)',\n",
    "            4:'Speed limit (70km/h)',\n",
    "            5:'Speed limit (80km/h)',\n",
    "            6:'End of speed limit (80km/h)',\n",
    "            7:'Speed limit (100km/h)',\n",
    "            8:'Speed limit (120km/h)',\n",
    "            9:'No passing',\n",
    "            10:'No passing veh over 3.5 tons',\n",
    "            11:'Right-of-way at intersection',\n",
    "            12:'Priority road',\n",
    "            13:'Yield',\n",
    "            14:'Stop',\n",
    "            15:'No vehicles',\n",
    "            16:'Vehicle > 3.5 tons prohibited',\n",
    "            17:'No entry',\n",
    "            18:'General caution',\n",
    "            19:'Dangerous curve left',\n",
    "            20:'Dangerous curve right',\n",
    "            21:'Double curve',\n",
    "            22:'Bumpy road',\n",
    "            23:'Slippery road',\n",
    "            24:'Road narrows on the right',\n",
    "            25:'Road work',\n",
    "            26:'Traffic signals',\n",
    "            27:'Pedestrians',\n",
    "            28:'Children crossing',\n",
    "            29:'Bicycles crossing',\n",
    "            30:'Beware of ice/snow',\n",
    "            31:'Wild animals crossing',\n",
    "            32:'End speed + passing limits',\n",
    "            33:'Turn right ahead',\n",
    "            34:'Turn left ahead',\n",
    "            35:'Ahead only',\n",
    "            36:'Go straight or right',\n",
    "            37:'Go straight or left',\n",
    "            38:'Keep right',\n",
    "            39:'Keep left',\n",
    "            40:'Roundabout mandatory',\n",
    "            41:'End of no passing',\n",
    "            42:'End no passing vehicle > 3.5 tons' }"
   ]
  },
  {
   "cell_type": "code",
   "execution_count": 76,
   "metadata": {},
   "outputs": [],
   "source": [
    "def test_on_img(img):\n",
    "    data=[]\n",
    "    image=Image.open(img)\n",
    "    image=image.resize((30,30))\n",
    "    data.append(np.array(image))\n",
    "    x_test=np.array(data)\n",
    "    y_pred=model.predict_classes(x_test)\n",
    "    return image,y_pred"
   ]
  },
  {
   "cell_type": "code",
   "execution_count": 89,
   "metadata": {},
   "outputs": [
    {
     "name": "stdout",
     "output_type": "stream",
     "text": [
      "The predicted symbol is   Keep right\n"
     ]
    },
    {
     "data": {
      "image/png": "[encoded data removed]",
      "text/plain": [
       "<Figure size 432x288 with 1 Axes>"
      ]
     },
     "metadata": {
      "needs_background": "light"
     },
     "output_type": "display_data"
    }
   ],
   "source": [
    "img,pred=test_on_img(r'C:/Users/Pramodh/Desktop/Pramodh/Phython/Phython Code practice/CNN/Traffic symbols classification\\Dataset\\Test\\00005.png')\n",
    "print('The predicted symbol is  ',classes[pred[0]])\n",
    "plt.imshow(img)\n",
    "plt.show()"
   ]
  },
  {
   "cell_type": "markdown",
   "metadata": {},
   "source": [
    "We have achieved an amazing accuracy of 95 % approx. \n",
    "We can further improve accuracy by tuning hyperparameteres with Keras tuner and implementing data augmentation techniques."
   ]
  },
  {
   "cell_type": "code",
   "execution_count": null,
   "metadata": {},
   "outputs": [],
   "source": []
  }
 ],
 "metadata": {
  "kernelspec": {
   "display_name": "Python 3",
   "language": "python",
   "name": "python3"
  },
  "language_info": {
   "codemirror_mode": {
    "name": "ipython",
    "version": 3
   },
   "file_extension": ".py",
   "mimetype": "text/x-python",
   "name": "python",
   "nbconvert_exporter": "python",
   "pygments_lexer": "ipython3",
   "version": "3.7.6"
  }
 },
 "nbformat": 4,
 "nbformat_minor": 4
}
